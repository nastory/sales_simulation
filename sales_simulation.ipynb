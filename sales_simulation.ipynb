{
 "cells": [
  {
   "cell_type": "markdown",
   "metadata": {},
   "source": [
    " "
   ]
  },
  {
   "cell_type": "markdown",
   "metadata": {},
   "source": [
    "# <center>Sales Simulation with Customer-Level Bahavior and Preference; Regional Seasonality; and Product, Category, and Brand Data</center>\n",
    "<center>by Nigel Story</center>"
   ]
  },
  {
   "cell_type": "markdown",
   "metadata": {},
   "source": [
    "## Introduction\n",
    "\n",
    "I cut my teeth in the retail world - analyzing churn and LTV, identifying real estate opportunities for store deployments, optimizing margin, etc. - so I've often wanted to work on personal projects that use retail data. I started searching, and it turns out that retail companies are not so eager to share their data (understandably so), so I've embarked on a mission to create my own.\n",
    "\n",
    "Meet __Naturals Retailer__, your one-stop shop for soaps, lotions, and suppliments, and the official retailer of brands like \"Bill's Soap Co.\" and \"Treesap Naturals\"!\n",
    "\n",
    "This simulation will revolve around the idea that the trends and patterns observed in retail analytics have their roots in individual customer decisions and behaviors. Therefore, our primary simulated object will be the customers themselves. This will allow us to see high-level metrics, like total seasonal sales, all the way down to micro-level \"customer x likes to buy product y\". If you want to see how things turn out, check out the <a href=\"https://app.powerbi.com/view?r=eyJrIjoiZDNjMWY4ZmEtY2Y2Yi00NTMzLTlmZmYtZWM3NjkxOTY0YzRkIiwidCI6ImI1ZjZhZGJmLTVjY2YtNGJlMi04MDgzLWQ4ODY5YjBhNWE0MiIsImMiOjF9&pageName=ReportSection534c763a552cd144ea70\">Power BI dashboard</a> that uses data from this simulation.\n",
    "\n",
    "Now let's get going!"
   ]
  },
  {
   "cell_type": "markdown",
   "metadata": {},
   "source": [
    "### Packages"
   ]
  },
  {
   "cell_type": "code",
   "execution_count": 1,
   "metadata": {},
   "outputs": [],
   "source": [
    "import pandas as pd\n",
    "import numpy as np\n",
    "import datetime as dt\n",
    "import math\n",
    "import requests\n",
    "from tqdm import tqdm\n",
    "from bs4 import BeautifulSoup\n",
    "from io import StringIO\n",
    "import matplotlib.pyplot as plt\n",
    "%matplotlib inline"
   ]
  },
  {
   "cell_type": "markdown",
   "metadata": {},
   "source": [
    "## Product Information Tables\n",
    "\n",
    "The first step is build our business - \"Natural Retailers.\" I've created product categories, brands, and products for our simulated business to sell. Each product has a brand, category, msrp, and unit cost associated with it, which will allow us to do the majority of classic retail KPI tracking."
   ]
  },
  {
   "cell_type": "code",
   "execution_count": 3,
   "metadata": {},
   "outputs": [],
   "source": [
    "categories = [\n",
    "    {'id': 1, 'descr': 'Soap'},\n",
    "    {'id': 2, 'descr': 'Lotion'},\n",
    "    {'id': 3, 'descr': 'Supplement'}\n",
    "]\n",
    "\n",
    "brands = [\n",
    "    {'id': 1, 'descr': \"Bill's Soap Co.\"},\n",
    "    {'id': 2, 'descr': \"Taysha's Health & Wellness\"},\n",
    "    {'id': 3, 'descr': \"Treesap Naturals\"}\n",
    "]"
   ]
  },
  {
   "cell_type": "code",
   "execution_count": 2,
   "metadata": {},
   "outputs": [],
   "source": [
    "products = [\n",
    "    {'id': 1, 'descr': 'Gentle Soap', 'msrp': 10.00, 'unit_cost': 5.00, 'brand': 1, 'category': 1},\n",
    "    {'id': 2, 'descr': 'Rejuvinating Soap', 'msrp': 12.00, 'unit_cost': 6.00, 'brand': 1, 'category': 1},\n",
    "    {'id': 3, 'descr': 'Moisturizing Lotion', 'msrp': 12.00, 'unit_cost': 6.00, 'brand': 1, 'category': 2},\n",
    "    {'id': 4, 'descr': 'All Clean Hand Soap', 'msrp': 11.00, 'unit_cost': 6.60, 'brand': 2, 'category': 1},\n",
    "    {'id': 5, 'descr': 'All Clean Hand Lotion', 'msrp': 11.00, 'unit_cost': 6.60, 'brand': 2, 'category': 2},\n",
    "    {'id': 6, 'descr': 'Hempy Hand Lotion', 'msrp': 13.00, 'unit_cost': 7.80, 'brand': 2, 'category': 2},\n",
    "    {'id': 7, 'descr': 'Hempy Health Supplements', 'msrp': 15.00, 'unit_cost': 9.00, 'brand': 2, 'category': 3},\n",
    "    {'id': 8, 'descr': 'Natural Cedar Lotion', 'msrp': 12.00, 'unit_cost': 6.00, 'brand': 3, 'category': 2},\n",
    "    {'id': 9, 'descr': 'Natural Extract', 'msrp': 15.00, 'unit_cost': 7.50, 'brand': 3, 'category': 3},\n",
    "    {'id': 10, 'descr': 'Natural Energy', 'msrp': 14.00, 'unit_cost': 7.00, 'brand': 3, 'category': 3}  \n",
    "]"
   ]
  },
  {
   "cell_type": "code",
   "execution_count": 4,
   "metadata": {
    "scrolled": true
   },
   "outputs": [
    {
     "data": {
      "text/html": [
       "<div>\n",
       "<style scoped>\n",
       "    .dataframe tbody tr th:only-of-type {\n",
       "        vertical-align: middle;\n",
       "    }\n",
       "\n",
       "    .dataframe tbody tr th {\n",
       "        vertical-align: top;\n",
       "    }\n",
       "\n",
       "    .dataframe thead th {\n",
       "        text-align: right;\n",
       "    }\n",
       "</style>\n",
       "<table border=\"1\" class=\"dataframe\">\n",
       "  <thead>\n",
       "    <tr style=\"text-align: right;\">\n",
       "      <th></th>\n",
       "      <th>brand</th>\n",
       "      <th>category</th>\n",
       "      <th>descr</th>\n",
       "      <th>id</th>\n",
       "      <th>msrp</th>\n",
       "      <th>unit_cost</th>\n",
       "      <th>descr_brand</th>\n",
       "      <th>descr_categ</th>\n",
       "    </tr>\n",
       "  </thead>\n",
       "  <tbody>\n",
       "    <tr>\n",
       "      <th>0</th>\n",
       "      <td>1</td>\n",
       "      <td>1</td>\n",
       "      <td>Gentle Soap</td>\n",
       "      <td>1</td>\n",
       "      <td>10.0</td>\n",
       "      <td>5.0</td>\n",
       "      <td>Bill's Soap Co.</td>\n",
       "      <td>Soap</td>\n",
       "    </tr>\n",
       "    <tr>\n",
       "      <th>1</th>\n",
       "      <td>1</td>\n",
       "      <td>1</td>\n",
       "      <td>Rejuvinating Soap</td>\n",
       "      <td>2</td>\n",
       "      <td>12.0</td>\n",
       "      <td>6.0</td>\n",
       "      <td>Bill's Soap Co.</td>\n",
       "      <td>Soap</td>\n",
       "    </tr>\n",
       "    <tr>\n",
       "      <th>2</th>\n",
       "      <td>2</td>\n",
       "      <td>1</td>\n",
       "      <td>All Clean Hand Soap</td>\n",
       "      <td>4</td>\n",
       "      <td>11.0</td>\n",
       "      <td>6.6</td>\n",
       "      <td>Taysha's Health &amp; Wellness</td>\n",
       "      <td>Soap</td>\n",
       "    </tr>\n",
       "    <tr>\n",
       "      <th>3</th>\n",
       "      <td>1</td>\n",
       "      <td>2</td>\n",
       "      <td>Moisturizing Lotion</td>\n",
       "      <td>3</td>\n",
       "      <td>12.0</td>\n",
       "      <td>6.0</td>\n",
       "      <td>Bill's Soap Co.</td>\n",
       "      <td>Lotion</td>\n",
       "    </tr>\n",
       "    <tr>\n",
       "      <th>4</th>\n",
       "      <td>2</td>\n",
       "      <td>2</td>\n",
       "      <td>All Clean Hand Lotion</td>\n",
       "      <td>5</td>\n",
       "      <td>11.0</td>\n",
       "      <td>6.6</td>\n",
       "      <td>Taysha's Health &amp; Wellness</td>\n",
       "      <td>Lotion</td>\n",
       "    </tr>\n",
       "  </tbody>\n",
       "</table>\n",
       "</div>"
      ],
      "text/plain": [
       "   brand  category                  descr  id  msrp  unit_cost  \\\n",
       "0      1         1            Gentle Soap   1  10.0        5.0   \n",
       "1      1         1      Rejuvinating Soap   2  12.0        6.0   \n",
       "2      2         1    All Clean Hand Soap   4  11.0        6.6   \n",
       "3      1         2    Moisturizing Lotion   3  12.0        6.0   \n",
       "4      2         2  All Clean Hand Lotion   5  11.0        6.6   \n",
       "\n",
       "                  descr_brand descr_categ  \n",
       "0             Bill's Soap Co.        Soap  \n",
       "1             Bill's Soap Co.        Soap  \n",
       "2  Taysha's Health & Wellness        Soap  \n",
       "3             Bill's Soap Co.      Lotion  \n",
       "4  Taysha's Health & Wellness      Lotion  "
      ]
     },
     "execution_count": 4,
     "metadata": {},
     "output_type": "execute_result"
    }
   ],
   "source": [
    "products = pd.DataFrame(products)\n",
    "categories = pd.DataFrame(categories)\n",
    "brands = pd.DataFrame(brands)\n",
    "\n",
    "vi_products = pd.merge(left=products, right=brands, left_on='brand', right_on='id', how='inner', suffixes=('', '_brand'))\n",
    "vi_products = pd.merge(left=vi_products, right=categories, left_on='category', right_on='id', how='inner', suffixes=('', '_categ'))\n",
    "vi_products.drop(['id_categ', 'id_brand'], axis=1, inplace=True)\n",
    "vi_products.head()"
   ]
  },
  {
   "cell_type": "markdown",
   "metadata": {},
   "source": [
    "##  Customer Names\n",
    "\n",
    "Next, we need customers! Or at least, names to give them. We'll use the top 50 male and female names listed on the SSA website below, along with the most common U.S. surnames listed on thoughtco.com."
   ]
  },
  {
   "cell_type": "code",
   "execution_count": 5,
   "metadata": {},
   "outputs": [],
   "source": [
    "# baby names url\n",
    "url = \"https://www.ssa.gov/oact/babynames/decades/century.html\"\n",
    "res = requests.get(url)\n",
    "if res.status_code==200:\n",
    "    soup = BeautifulSoup(res.text)"
   ]
  },
  {
   "cell_type": "code",
   "execution_count": 6,
   "metadata": {},
   "outputs": [
    {
     "data": {
      "text/plain": [
       "[<tr align=\"right\"><td>1</td>\n",
       " <td>James</td> <td>4,700,229</td> <td>Mary</td> <td>3,196,385</td></tr>,\n",
       " <tr align=\"right\"><td>2</td>\n",
       " <td>Robert</td> <td>4,455,696</td> <td>Patricia</td> <td>1,558,407</td></tr>,\n",
       " <tr align=\"right\"><td>3</td>\n",
       " <td>John</td> <td>4,453,807</td> <td>Jennifer</td> <td>1,468,377</td></tr>,\n",
       " <tr align=\"right\"><td>4</td>\n",
       " <td>Michael</td> <td>4,335,919</td> <td>Linda</td> <td>1,448,303</td></tr>,\n",
       " <tr align=\"right\"><td>5</td>\n",
       " <td>William</td> <td>3,564,276</td> <td>Elizabeth</td> <td>1,420,377</td></tr>]"
      ]
     },
     "execution_count": 6,
     "metadata": {},
     "output_type": "execute_result"
    }
   ],
   "source": [
    "rows = soup.find('table').find('tbody').find_all('tr')\n",
    "rows[:5]"
   ]
  },
  {
   "cell_type": "code",
   "execution_count": 7,
   "metadata": {},
   "outputs": [],
   "source": [
    "names = []\n",
    "for r in rows:\n",
    "    data = r.find_all('td')\n",
    "    try:\n",
    "        names.append((data[1].text, data[3].text))\n",
    "    except IndexError as e:\n",
    "        continue"
   ]
  },
  {
   "cell_type": "code",
   "execution_count": 8,
   "metadata": {},
   "outputs": [
    {
     "data": {
      "text/plain": [
       "100"
      ]
     },
     "execution_count": 8,
     "metadata": {},
     "output_type": "execute_result"
    }
   ],
   "source": [
    "len(names)"
   ]
  },
  {
   "cell_type": "code",
   "execution_count": 9,
   "metadata": {},
   "outputs": [],
   "source": [
    "male_names = [x[0] for x in names]\n",
    "female_names = [x[1] for x in names]"
   ]
  },
  {
   "cell_type": "code",
   "execution_count": 10,
   "metadata": {},
   "outputs": [],
   "source": [
    "# last names url\n",
    "last_url = \"https://www.thoughtco.com/most-common-us-surnames-1422656\"\n",
    "res = requests.get(last_url)\n",
    "if res.status_code==200:\n",
    "    soup = BeautifulSoup(res.text)"
   ]
  },
  {
   "cell_type": "code",
   "execution_count": 11,
   "metadata": {},
   "outputs": [
    {
     "data": {
      "text/plain": [
       "<tr>\n",
       "<td><p>1</p></td>\n",
       "<td><p><a data-component=\"link\" data-ordinal=\"1\" data-source=\"inlineLink\" data-type=\"internalLink\" href=\"https://www.thoughtco.com/smith-name-meaning-and-origin-1422624\">Smith</a></p></td>\n",
       "<td><p><a data-component=\"link\" data-ordinal=\"1\" data-source=\"inlineLink\" data-type=\"internalLink\" href=\"https://www.thoughtco.com/english-surnames-meanings-and-origins-1422405\">English</a></p></td>\n",
       "<td><p>2,442,977</p></td>\n",
       "</tr>"
      ]
     },
     "execution_count": 11,
     "metadata": {},
     "output_type": "execute_result"
    }
   ],
   "source": [
    "rows = soup.find('table').find('tbody').find_all('tr')\n",
    "rows[0]"
   ]
  },
  {
   "cell_type": "code",
   "execution_count": 12,
   "metadata": {},
   "outputs": [],
   "source": [
    "last_names = []\n",
    "for r in rows:\n",
    "    try:\n",
    "        last_names.append(r.find_all('a')[0].text)\n",
    "    except IndexError as e:\n",
    "        continue"
   ]
  },
  {
   "cell_type": "code",
   "execution_count": 13,
   "metadata": {
    "scrolled": true
   },
   "outputs": [
    {
     "data": {
      "text/plain": [
       "93"
      ]
     },
     "execution_count": 13,
     "metadata": {},
     "output_type": "execute_result"
    }
   ],
   "source": [
    "len(last_names)"
   ]
  },
  {
   "cell_type": "markdown",
   "metadata": {},
   "source": [
    "## State Names\n",
    "\n",
    "The customers gotta live somewhere! Rather than listing out the 50 states myself, a much faster option is to scrape them from the web. This way, we also gain access to states' U.S. region names and divisions."
   ]
  },
  {
   "cell_type": "code",
   "execution_count": 14,
   "metadata": {},
   "outputs": [],
   "source": [
    "states_url = \"https://raw.githubusercontent.com/cphalpert/census-regions/master/\" + \\\n",
    "\"us%20census%20bureau%20regions%20and%20divisions.csv\""
   ]
  },
  {
   "cell_type": "code",
   "execution_count": 15,
   "metadata": {},
   "outputs": [],
   "source": [
    "res = requests.get(states_url)\n",
    "if res.status_code == 200:\n",
    "    states_csv = StringIO(res.text)"
   ]
  },
  {
   "cell_type": "code",
   "execution_count": 16,
   "metadata": {},
   "outputs": [],
   "source": [
    "states_df = pd.read_csv(states_csv, sep=',')"
   ]
  },
  {
   "cell_type": "code",
   "execution_count": 17,
   "metadata": {},
   "outputs": [
    {
     "data": {
      "text/html": [
       "<div>\n",
       "<style scoped>\n",
       "    .dataframe tbody tr th:only-of-type {\n",
       "        vertical-align: middle;\n",
       "    }\n",
       "\n",
       "    .dataframe tbody tr th {\n",
       "        vertical-align: top;\n",
       "    }\n",
       "\n",
       "    .dataframe thead th {\n",
       "        text-align: right;\n",
       "    }\n",
       "</style>\n",
       "<table border=\"1\" class=\"dataframe\">\n",
       "  <thead>\n",
       "    <tr style=\"text-align: right;\">\n",
       "      <th></th>\n",
       "      <th>State</th>\n",
       "      <th>State Code</th>\n",
       "      <th>Region</th>\n",
       "      <th>Division</th>\n",
       "    </tr>\n",
       "  </thead>\n",
       "  <tbody>\n",
       "    <tr>\n",
       "      <th>0</th>\n",
       "      <td>Alaska</td>\n",
       "      <td>AK</td>\n",
       "      <td>West</td>\n",
       "      <td>Pacific</td>\n",
       "    </tr>\n",
       "    <tr>\n",
       "      <th>1</th>\n",
       "      <td>Alabama</td>\n",
       "      <td>AL</td>\n",
       "      <td>South</td>\n",
       "      <td>East South Central</td>\n",
       "    </tr>\n",
       "    <tr>\n",
       "      <th>2</th>\n",
       "      <td>Arkansas</td>\n",
       "      <td>AR</td>\n",
       "      <td>South</td>\n",
       "      <td>West South Central</td>\n",
       "    </tr>\n",
       "    <tr>\n",
       "      <th>3</th>\n",
       "      <td>Arizona</td>\n",
       "      <td>AZ</td>\n",
       "      <td>West</td>\n",
       "      <td>Mountain</td>\n",
       "    </tr>\n",
       "    <tr>\n",
       "      <th>4</th>\n",
       "      <td>California</td>\n",
       "      <td>CA</td>\n",
       "      <td>West</td>\n",
       "      <td>Pacific</td>\n",
       "    </tr>\n",
       "  </tbody>\n",
       "</table>\n",
       "</div>"
      ],
      "text/plain": [
       "        State State Code Region            Division\n",
       "0      Alaska         AK   West             Pacific\n",
       "1     Alabama         AL  South  East South Central\n",
       "2    Arkansas         AR  South  West South Central\n",
       "3     Arizona         AZ   West            Mountain\n",
       "4  California         CA   West             Pacific"
      ]
     },
     "execution_count": 17,
     "metadata": {},
     "output_type": "execute_result"
    }
   ],
   "source": [
    "states_df.head()"
   ]
  },
  {
   "cell_type": "code",
   "execution_count": 18,
   "metadata": {},
   "outputs": [],
   "source": [
    "state_names = states_df['State Code'].tolist()"
   ]
  },
  {
   "cell_type": "code",
   "execution_count": 19,
   "metadata": {},
   "outputs": [
    {
     "data": {
      "text/plain": [
       "array(['West', 'South', 'Northeast', 'Midwest'], dtype=object)"
      ]
     },
     "execution_count": 19,
     "metadata": {},
     "output_type": "execute_result"
    }
   ],
   "source": [
    "states_df.Region.unique()"
   ]
  },
  {
   "cell_type": "code",
   "execution_count": 20,
   "metadata": {},
   "outputs": [
    {
     "data": {
      "text/plain": [
       "'Northeast'"
      ]
     },
     "execution_count": 20,
     "metadata": {},
     "output_type": "execute_result"
    }
   ],
   "source": [
    "states_df.loc[states_df['State Code']=='NY', 'Region'].values[0]"
   ]
  },
  {
   "cell_type": "markdown",
   "metadata": {},
   "source": [
    "## Seasonality\n",
    "\n",
    "Here's where the heavy lifting starts. We will need to be able to define customers' shopping behaviors, and fundamental to that is the concept of seasonality. \n",
    "\n",
    "We're going to make a shopper's seasonality dependent on their region. For instance, the weather in California permits shoppers to shop year-round, whereas a shopper in the Notheast might have trouble driving to the store in winter. We're also going to account somewhat for the holiday's (a spike in November from Black Friday) and other seasonal \"bumps.\"\n",
    "\n",
    "Each `Seasonality` object will have a seasonal CDF distribution that will allow for the use of the inverse transform method during simulation."
   ]
  },
  {
   "cell_type": "code",
   "execution_count": 21,
   "metadata": {},
   "outputs": [],
   "source": [
    "class Seasonality:\n",
    "    \n",
    "    def __init__(self, state_code):\n",
    "        self._seasonality_lookup = {\n",
    "            'Northeast': [.2, .5, .1, .2, .5, .3, .6, .4, .2, .1, 1, .7], # Jan - Dec\n",
    "            'South': [0, .3, .1, .4, .6, .5, .6, .4, .1, .2, .8, .8],\n",
    "            'Midwest': [.3, .4, .1, 0, .3, .7, .8, .5, .4, .2, .9, .5],\n",
    "            'West': [.3, .4, .2, .1, .1, .2, .4, .6, .7, .3, .6, .5]\n",
    "        }\n",
    "        \n",
    "        self._seasonal_region = states_df.loc[states_df['State Code']==state_code, 'Region'].values[0]   \n",
    "        self._seasonal_weights = self._seasonality_lookup[self._seasonal_region]\n",
    "        self._seasonal_rands = [max(np.random.normal(loc=x, scale=0.15), 0) for x in self._seasonal_weights]\n",
    "        \n",
    "        rand_tot = sum(self._seasonal_rands)\n",
    "        \n",
    "        self.seasonal_behavior = [x/rand_tot for x in self._seasonal_rands]\n",
    "        self.seasonal_cdf = list(self.gen_seasonal_cdf())\n",
    "        \n",
    "        \n",
    "    def gen_seasonal_cdf(self):\n",
    "        tot = 0\n",
    "        for item in self.seasonal_behavior:\n",
    "            tot += item\n",
    "            yield tot\n",
    "        "
   ]
  },
  {
   "cell_type": "code",
   "execution_count": 22,
   "metadata": {},
   "outputs": [
    {
     "data": {
      "text/plain": [
       "[0.0,\n",
       " 0.08038717429904645,\n",
       " 0.08908918613882683,\n",
       " 0.12775004982443108,\n",
       " 0.275905013071287,\n",
       " 0.3714544547212645,\n",
       " 0.4951129897309958,\n",
       " 0.6013277733455649,\n",
       " 0.6337004959143787,\n",
       " 0.6993555114536002,\n",
       " 0.8198215622555375,\n",
       " 0.9999999999999999]"
      ]
     },
     "execution_count": 22,
     "metadata": {},
     "output_type": "execute_result"
    }
   ],
   "source": [
    "s = Seasonality('LA')\n",
    "s.seasonal_cdf"
   ]
  },
  {
   "cell_type": "markdown",
   "metadata": {},
   "source": [
    "## Customer and Behavior Classes\n",
    "\n",
    "Next, we'll need a class to determine the behavior of an individual customer. Each customer will have shopping frequencies, spending distributions, seasonalities, and brand and category preferences that will be initialized upon their instanciation. These will be created by a `Behavior` class.\n",
    "\n",
    "The `Behavior` class will also create segmenting behaviors between male and female customers, though the customer's sex will be omitted from the final dataset. This will allow for analytists to explore these differences with unsupervised methods."
   ]
  },
  {
   "cell_type": "code",
   "execution_count": 23,
   "metadata": {},
   "outputs": [],
   "source": [
    "class Behavior:\n",
    "    \n",
    "    def __init__(self):\n",
    "        self.frequency = 0\n",
    "        self.avg_spend = 0\n",
    "        self.std_spend = 0\n",
    "        self.seasonality = None\n",
    "        self.brand_weights = {\n",
    "            1: 0,\n",
    "            2: 0,\n",
    "            3: 0\n",
    "        }\n",
    "        self.category_weights = {\n",
    "            1: 0,\n",
    "            2: 0,\n",
    "            3: 0\n",
    "        }\n",
    "        self.seasonal_cdf = []\n",
    "        \n",
    "        \n",
    "    def cum_sum(self, ls):\n",
    "        tot = 0\n",
    "        for item in ls:\n",
    "            tot += item\n",
    "            yield tot\n",
    "        \n",
    "        \n",
    "    def init_brand_weights(self, customer):\n",
    "        if customer.gender == 'Male':\n",
    "            pref = [.4, .1, .3]\n",
    "        else:\n",
    "            pref = [.5, .4, .3]\n",
    "            \n",
    "        rands = np.random.rand(1,3) + pref\n",
    "        weights = rands / rands.sum()\n",
    "        weights = list(weights[0])\n",
    "        cdf = [x for x in self.cum_sum(weights)]\n",
    "        for i in range(len(cdf)):\n",
    "            self.brand_weights[i+1] = cdf[i]\n",
    "    \n",
    "    \n",
    "    def init_category_weights(self, customer):\n",
    "        if customer.gender == 'Male':\n",
    "            pref = [.3, .5, 1]\n",
    "        else:\n",
    "            pref = [.3, .8, 1]\n",
    "            \n",
    "        rands = np.random.rand(1,3) + pref\n",
    "        weights = rands / rands.sum()\n",
    "        weights = list(weights[0])\n",
    "        cdf = [x for x in self.cum_sum(weights)]\n",
    "        for i in range(len(cdf)):\n",
    "            self.category_weights[i+1] = cdf[i]\n",
    "            \n",
    "    \n",
    "    def init_seasonal_cdf(self, customer):\n",
    "        self.seasonality = Seasonality(customer.state)\n",
    "        self.seasonal_cdf = self.seasonality.seasonal_cdf\n",
    "    \n",
    "        \n",
    "    def fit(self, customer):\n",
    "        # create variance between sex\n",
    "        if customer.gender == 'Male':\n",
    "            self.avg_spend = max(np.random.normal(loc=23, scale=12.5), 10)\n",
    "            self.std_spend = max(np.random.normal(loc=8, scale=3), 2)\n",
    "            self.frequency = max(np.random.normal(loc=3, scale=3), 1)\n",
    "            \n",
    "        else:\n",
    "            self.avg_spend = max(np.random.normal(loc=27, scale=14), 10)\n",
    "            self.std_spend = max(np.random.normal(loc=5, scale=2), 2)\n",
    "            self.frequency = max(np.random.normal(loc=4, scale=2), 1)\n",
    "            \n",
    "        self.init_brand_weights(customer)\n",
    "        self.init_category_weights(customer)\n",
    "        self.init_seasonal_cdf(customer)\n",
    "        \n",
    "        return self\n",
    "            "
   ]
  },
  {
   "cell_type": "markdown",
   "metadata": {},
   "source": [
    "The `Customer` class will bring it all together. Each customer will have id information, location data, and a set of behaviors to determine what decisions they will make during the simulation."
   ]
  },
  {
   "cell_type": "code",
   "execution_count": 24,
   "metadata": {},
   "outputs": [],
   "source": [
    "class Customer:\n",
    "    \n",
    "    def __init__(self, id):\n",
    "        self.id = id\n",
    "        self.first_name = None\n",
    "        self.last_name = None\n",
    "        self.gender = None\n",
    "        self.state = None\n",
    "        self.behavior = None\n",
    "    \n",
    "    \n",
    "    def __str__(self):\n",
    "        print_out = (f\"First Name: {self.first_name}\\n\" +\n",
    "                     f\"Last Name: {self.last_name}\\n\" +\n",
    "                     f\"Gender: {self.gender}\\n\" +\n",
    "                     f\"State: {self.state}\\n\" +\n",
    "                     f\"Behavior:\" + \n",
    "                     f\"\\n\\tAvg. Spend: {self.behavior.avg_spend:.2f}\" +\n",
    "                     f\"\\n\\tFreq.: {self.behavior.frequency:.2f}\" +\n",
    "                     f\"\\n\\tSeas.: {[round(x, 2) for x in self.behavior.seasonal_cdf]}\" +\n",
    "                     f\"\\n\\tSeas. Reg.: {self.behavior.seasonality._seasonal_region}\")\n",
    "        \n",
    "        return print_out\n",
    "        \n",
    "        \n",
    "    def __call__(self):\n",
    "        return self.generate_customer()\n",
    "    \n",
    "    \n",
    "    def generate_customer(self):\n",
    "        r = np.random.rand()\n",
    "        self.gender = 'Male' if r < 0.4 else 'Female'\n",
    "        \n",
    "        if self.gender == 'Male':\n",
    "            self.first_name = np.random.choice(male_names)\n",
    "        else:\n",
    "            self.first_name = np.random.choice(female_names)\n",
    "            \n",
    "        self.last_name = np.random.choice(last_names)\n",
    "        self.state = np.random.choice(state_names)\n",
    "        self.behavior = Behavior().fit(self)\n",
    "        \n",
    "        return self"
   ]
  },
  {
   "cell_type": "code",
   "execution_count": 25,
   "metadata": {},
   "outputs": [
    {
     "name": "stdout",
     "output_type": "stream",
     "text": [
      "First Name: Roger\n",
      "Last Name: Castillo\n",
      "Gender: Male\n",
      "State: AL\n",
      "Behavior:\n",
      "\tAvg. Spend: 28.36\n",
      "\tFreq.: 1.94\n",
      "\tSeas.: [0.02, 0.07, 0.11, 0.21, 0.3, 0.34, 0.52, 0.57, 0.6, 0.62, 0.79, 1.0]\n",
      "\tSeas. Reg.: South\n"
     ]
    }
   ],
   "source": [
    "print(Customer(id=0).generate_customer())"
   ]
  },
  {
   "cell_type": "markdown",
   "metadata": {},
   "source": [
    "## Simulate Sales Transactions"
   ]
  },
  {
   "cell_type": "markdown",
   "metadata": {},
   "source": [
    "### Method\n",
    "\n",
    "Simulate transactions for an entire year for each customer, then look at high-level trends to see how well the simulation works.\n",
    "\n",
    "To simulate shopping times:\n",
    "1. use poisson(frequency) to generate how many times the customer shops in the year, `n_shops`.\n",
    "2. generate `n_shops` random numbers `[0, 1]` and use inverse transform on the customer's `seasonal_cdf` to generate shopping months.\n",
    "3. create a transaction in each generated month.\n",
    "\n",
    "To simulate a transactions:\n",
    "1. use generate spend amount cap from customer behavior\n",
    "2. while extended price of transaction is less than or equal to spend cap:\n",
    "    1. use itm to pick brand to buy\n",
    "    2. use itm to pick category to buy\n",
    "    3. pick random item from brand,category pair\n",
    "    4. add item's msrp to extended price\n",
    "    5. back to top\n",
    "\n",
    "For each customer:\n",
    "1. generate shopping months\n",
    "2. order customer, shopping month pairs by month\n",
    "3. for each customer/shopping month, generate a transaction with incremental id\n",
    "4. append to transcation tables"
   ]
  },
  {
   "cell_type": "code",
   "execution_count": 26,
   "metadata": {},
   "outputs": [],
   "source": [
    "# inverse tranform method on discrete cdf\n",
    "def itm(n, cdf):\n",
    "    \n",
    "    for i in range(len(cdf)):\n",
    "        if n > cdf[i]:\n",
    "            continue\n",
    "        else:\n",
    "            break\n",
    "            \n",
    "    return i + 1"
   ]
  },
  {
   "cell_type": "code",
   "execution_count": 27,
   "metadata": {},
   "outputs": [],
   "source": [
    "# shopping times\n",
    "def generate_shopping_months(customer, year):\n",
    "    f = customer.behavior.frequency\n",
    "    cdf = customer.behavior.seasonal_cdf\n",
    "    \n",
    "    n_shops = np.random.poisson(f)\n",
    "    r = np.random.rand(n_shops)\n",
    "    \n",
    "    months = [itm(x, cdf) for x in r] # inverse transform on seasonal_cdf\n",
    "    months.sort()\n",
    "    months = [int(str(year)+str(x).zfill(2)) for x in months]\n",
    "    \n",
    "    return months"
   ]
  },
  {
   "cell_type": "code",
   "execution_count": 28,
   "metadata": {},
   "outputs": [
    {
     "name": "stdout",
     "output_type": "stream",
     "text": [
      "First Name: Nathan\n",
      "Last Name: Wright\n",
      "Gender: Male\n",
      "State: ID\n",
      "Behavior:\n",
      "\tAvg. Spend: 10.00\n",
      "\tFreq.: 5.25\n",
      "\tSeas.: [0.13, 0.23, 0.26, 0.28, 0.28, 0.28, 0.39, 0.52, 0.71, 0.81, 0.92, 1.0]\n",
      "\tSeas. Reg.: West\n"
     ]
    }
   ],
   "source": [
    "test_cust = Customer(id=0)()\n",
    "print(test_cust)"
   ]
  },
  {
   "cell_type": "code",
   "execution_count": 29,
   "metadata": {},
   "outputs": [
    {
     "data": {
      "text/plain": [
       "[202007, 202008, 202008, 202008, 202009, 202011, 202011]"
      ]
     },
     "execution_count": 29,
     "metadata": {},
     "output_type": "execute_result"
    }
   ],
   "source": [
    "shop_months = generate_shopping_months(test_cust, 2020)\n",
    "shop_months"
   ]
  },
  {
   "cell_type": "markdown",
   "metadata": {},
   "source": [
    "### generate transactions"
   ]
  },
  {
   "cell_type": "code",
   "execution_count": 30,
   "metadata": {},
   "outputs": [],
   "source": [
    "def generate_transaction(customer, id, month):\n",
    "    month_id = month\n",
    "    brand_cdf = [customer.behavior.brand_weights[x] for x in customer.behavior.brand_weights]\n",
    "    categ_cdf = [customer.behavior.category_weights[x] for x in customer.behavior.category_weights]\n",
    "    spend_cap = max(np.random.normal(loc=customer.behavior.avg_spend, scale=customer.behavior.std_spend), 10)\n",
    "\n",
    "    purchased_items = []\n",
    "    ext_prc = 0\n",
    "    while ext_prc <= spend_cap:\n",
    "        r = np.random.rand(2)\n",
    "        brand = itm(r[0], brand_cdf)\n",
    "        \n",
    "        prods = products.loc[products['brand']==brand, ['id', 'category', 'msrp']]\n",
    "        cat_opts = prods['category'].tolist()\n",
    "        cat = itm(r[1], categ_cdf)\n",
    "        if cat not in cat_opts:\n",
    "            cat = np.random.choice([min(cat_opts), max(cat_opts)])\n",
    "            \n",
    "        items = prods.loc[prods['category']==cat, ['id', 'msrp']]\n",
    "        \n",
    "        purchased_item = np.random.choice(items['id'].tolist())\n",
    "        \n",
    "        ext_prc += items.loc[items['id']==purchased_item, 'msrp'].values[0]\n",
    "        \n",
    "        purchased_items.append(purchased_item)\n",
    "        \n",
    "    transaction = {'id': id, 'month': month, 'customer_id': customer.id, 'product_ids': purchased_items}\n",
    "    \n",
    "    return transaction"
   ]
  },
  {
   "cell_type": "code",
   "execution_count": 31,
   "metadata": {},
   "outputs": [
    {
     "data": {
      "text/plain": [
       "{'id': 0, 'month': 202004, 'customer_id': 0, 'product_ids': [3]}"
      ]
     },
     "execution_count": 31,
     "metadata": {},
     "output_type": "execute_result"
    }
   ],
   "source": [
    "generate_transaction(test_cust, 0, 202004)"
   ]
  },
  {
   "cell_type": "markdown",
   "metadata": {},
   "source": [
    "#### by-item sales history from transaction"
   ]
  },
  {
   "cell_type": "code",
   "execution_count": 32,
   "metadata": {},
   "outputs": [],
   "source": [
    "def line_sales_rows(trx):\n",
    "    prods = trx['product_ids']\n",
    "    uprods = {}\n",
    "    for p in prods:\n",
    "        if p in uprods:\n",
    "            uprods[p] += 1\n",
    "        else:\n",
    "            uprods[p] = 1\n",
    "    \n",
    "    rows = []\n",
    "    for p in uprods:\n",
    "        dummy = {}\n",
    "        dummy['id'] = trx['id']\n",
    "        dummy['product_id'] = p\n",
    "        dummy['qty_sold'] = uprods[p]\n",
    "        \n",
    "        rows.append(dummy)\n",
    "            \n",
    "    return rows"
   ]
  },
  {
   "cell_type": "code",
   "execution_count": 33,
   "metadata": {},
   "outputs": [],
   "source": [
    "test_trx = generate_transaction(test_cust, 0, 202004)"
   ]
  },
  {
   "cell_type": "code",
   "execution_count": 34,
   "metadata": {},
   "outputs": [
    {
     "data": {
      "text/plain": [
       "[{'id': 0, 'product_id': 7, 'qty_sold': 1}]"
      ]
     },
     "execution_count": 34,
     "metadata": {},
     "output_type": "execute_result"
    }
   ],
   "source": [
    "line_sales_rows(test_trx)"
   ]
  },
  {
   "cell_type": "markdown",
   "metadata": {},
   "source": [
    "#### by-transaction sales history"
   ]
  },
  {
   "cell_type": "code",
   "execution_count": 35,
   "metadata": {},
   "outputs": [],
   "source": [
    "def transaction_rows(trx):\n",
    "    return {'id': trx['id'], 'month': trx['month'], 'customer_id': trx['customer_id']}"
   ]
  },
  {
   "cell_type": "code",
   "execution_count": 36,
   "metadata": {},
   "outputs": [
    {
     "data": {
      "text/plain": [
       "{'id': 0, 'month': 202004, 'customer_id': 0}"
      ]
     },
     "execution_count": 36,
     "metadata": {},
     "output_type": "execute_result"
    }
   ],
   "source": [
    "transaction_rows(test_trx)"
   ]
  },
  {
   "cell_type": "markdown",
   "metadata": {},
   "source": [
    "## Generate customer shopping\n",
    "\n",
    "For each customer:\n",
    "1. generate shopping months\n",
    "2. order customer, shopping month pairs by month\n",
    "3. for each customer/shopping month, generate a transaction with incremental id\n",
    "4. append to transcation tables"
   ]
  },
  {
   "cell_type": "code",
   "execution_count": 37,
   "metadata": {},
   "outputs": [],
   "source": [
    "customers = [Customer(id=x)() for x in range(2000)]"
   ]
  },
  {
   "cell_type": "code",
   "execution_count": 38,
   "metadata": {},
   "outputs": [
    {
     "data": {
      "text/html": [
       "<div>\n",
       "<style scoped>\n",
       "    .dataframe tbody tr th:only-of-type {\n",
       "        vertical-align: middle;\n",
       "    }\n",
       "\n",
       "    .dataframe tbody tr th {\n",
       "        vertical-align: top;\n",
       "    }\n",
       "\n",
       "    .dataframe thead th {\n",
       "        text-align: right;\n",
       "    }\n",
       "</style>\n",
       "<table border=\"1\" class=\"dataframe\">\n",
       "  <thead>\n",
       "    <tr style=\"text-align: right;\">\n",
       "      <th></th>\n",
       "      <th>id</th>\n",
       "      <th>first_name</th>\n",
       "      <th>last_name</th>\n",
       "      <th>state</th>\n",
       "    </tr>\n",
       "  </thead>\n",
       "  <tbody>\n",
       "    <tr>\n",
       "      <th>0</th>\n",
       "      <td>0</td>\n",
       "      <td>Kenneth</td>\n",
       "      <td>Thompson</td>\n",
       "      <td>NJ</td>\n",
       "    </tr>\n",
       "    <tr>\n",
       "      <th>1</th>\n",
       "      <td>1</td>\n",
       "      <td>Alexander</td>\n",
       "      <td>Thomas</td>\n",
       "      <td>AR</td>\n",
       "    </tr>\n",
       "    <tr>\n",
       "      <th>2</th>\n",
       "      <td>2</td>\n",
       "      <td>Patrick</td>\n",
       "      <td>Brown</td>\n",
       "      <td>FL</td>\n",
       "    </tr>\n",
       "    <tr>\n",
       "      <th>3</th>\n",
       "      <td>3</td>\n",
       "      <td>Eugene</td>\n",
       "      <td>Long</td>\n",
       "      <td>LA</td>\n",
       "    </tr>\n",
       "    <tr>\n",
       "      <th>4</th>\n",
       "      <td>4</td>\n",
       "      <td>Melissa</td>\n",
       "      <td>Johnson</td>\n",
       "      <td>HI</td>\n",
       "    </tr>\n",
       "  </tbody>\n",
       "</table>\n",
       "</div>"
      ],
      "text/plain": [
       "   id first_name last_name state\n",
       "0   0    Kenneth  Thompson    NJ\n",
       "1   1  Alexander    Thomas    AR\n",
       "2   2    Patrick     Brown    FL\n",
       "3   3     Eugene      Long    LA\n",
       "4   4    Melissa   Johnson    HI"
      ]
     },
     "execution_count": 38,
     "metadata": {},
     "output_type": "execute_result"
    }
   ],
   "source": [
    "cols = ['id', 'first_name', 'last_name', 'state']\n",
    "cust_ls = [(c.id, c.first_name, c.last_name, c.state) for c in customers]\n",
    "customers_df = pd.DataFrame(cust_ls, columns=cols)\n",
    "customers_df.head()"
   ]
  },
  {
   "cell_type": "code",
   "execution_count": 39,
   "metadata": {},
   "outputs": [],
   "source": [
    "years = [2018, 2019, 2020]\n",
    "cust_months = [{c: generate_shopping_months(c, y)} for c in customers for y in years]"
   ]
  },
  {
   "cell_type": "code",
   "execution_count": 40,
   "metadata": {},
   "outputs": [
    {
     "data": {
      "text/plain": [
       "[{<__main__.Customer at 0x7ff8365cc208>: [201811]},\n",
       " {<__main__.Customer at 0x7ff8365cc208>: []},\n",
       " {<__main__.Customer at 0x7ff8365cc208>: [202007]},\n",
       " {<__main__.Customer at 0x7ff836917780>: [201802,\n",
       "   201802,\n",
       "   201804,\n",
       "   201805,\n",
       "   201807,\n",
       "   201807,\n",
       "   201808,\n",
       "   201811,\n",
       "   201811,\n",
       "   201811,\n",
       "   201812]},\n",
       " {<__main__.Customer at 0x7ff836917780>: [201902,\n",
       "   201902,\n",
       "   201904,\n",
       "   201904,\n",
       "   201906,\n",
       "   201907,\n",
       "   201907,\n",
       "   201907,\n",
       "   201909,\n",
       "   201911,\n",
       "   201911,\n",
       "   201912,\n",
       "   201912]}]"
      ]
     },
     "execution_count": 40,
     "metadata": {},
     "output_type": "execute_result"
    }
   ],
   "source": [
    "cust_months[:5]"
   ]
  },
  {
   "cell_type": "code",
   "execution_count": 41,
   "metadata": {},
   "outputs": [],
   "source": [
    "cust_month_pairs = []\n",
    "for cm in cust_months:\n",
    "    for c in cm:\n",
    "        for m in cm[c]:\n",
    "            cust_month_pairs.append((c, m))"
   ]
  },
  {
   "cell_type": "code",
   "execution_count": 42,
   "metadata": {},
   "outputs": [
    {
     "data": {
      "text/plain": [
       "[(<__main__.Customer at 0x7ff8365cc208>, 201811),\n",
       " (<__main__.Customer at 0x7ff8365cc208>, 202007),\n",
       " (<__main__.Customer at 0x7ff836917780>, 201802),\n",
       " (<__main__.Customer at 0x7ff836917780>, 201802),\n",
       " (<__main__.Customer at 0x7ff836917780>, 201804)]"
      ]
     },
     "execution_count": 42,
     "metadata": {},
     "output_type": "execute_result"
    }
   ],
   "source": [
    "cust_month_pairs[:5]"
   ]
  },
  {
   "cell_type": "code",
   "execution_count": 43,
   "metadata": {},
   "outputs": [
    {
     "data": {
      "text/html": [
       "<div>\n",
       "<style scoped>\n",
       "    .dataframe tbody tr th:only-of-type {\n",
       "        vertical-align: middle;\n",
       "    }\n",
       "\n",
       "    .dataframe tbody tr th {\n",
       "        vertical-align: top;\n",
       "    }\n",
       "\n",
       "    .dataframe thead th {\n",
       "        text-align: right;\n",
       "    }\n",
       "</style>\n",
       "<table border=\"1\" class=\"dataframe\">\n",
       "  <thead>\n",
       "    <tr style=\"text-align: right;\">\n",
       "      <th></th>\n",
       "      <th>id</th>\n",
       "      <th>customer_id</th>\n",
       "      <th>month</th>\n",
       "    </tr>\n",
       "  </thead>\n",
       "  <tbody>\n",
       "    <tr>\n",
       "      <th>0</th>\n",
       "      <td>0</td>\n",
       "      <td>First Name: Danielle\\nLast Name: Wright\\nGende...</td>\n",
       "      <td>201801</td>\n",
       "    </tr>\n",
       "    <tr>\n",
       "      <th>1</th>\n",
       "      <td>1</td>\n",
       "      <td>First Name: Noah\\nLast Name: Hernandez\\nGender...</td>\n",
       "      <td>201801</td>\n",
       "    </tr>\n",
       "    <tr>\n",
       "      <th>2</th>\n",
       "      <td>2</td>\n",
       "      <td>First Name: Kathleen\\nLast Name: Gutierrez\\nGe...</td>\n",
       "      <td>201801</td>\n",
       "    </tr>\n",
       "    <tr>\n",
       "      <th>3</th>\n",
       "      <td>3</td>\n",
       "      <td>First Name: Roy\\nLast Name: Wilson\\nGender: Ma...</td>\n",
       "      <td>201801</td>\n",
       "    </tr>\n",
       "    <tr>\n",
       "      <th>4</th>\n",
       "      <td>4</td>\n",
       "      <td>First Name: Emily\\nLast Name: Carter\\nGender: ...</td>\n",
       "      <td>201801</td>\n",
       "    </tr>\n",
       "  </tbody>\n",
       "</table>\n",
       "</div>"
      ],
      "text/plain": [
       "   id                                        customer_id   month\n",
       "0   0  First Name: Danielle\\nLast Name: Wright\\nGende...  201801\n",
       "1   1  First Name: Noah\\nLast Name: Hernandez\\nGender...  201801\n",
       "2   2  First Name: Kathleen\\nLast Name: Gutierrez\\nGe...  201801\n",
       "3   3  First Name: Roy\\nLast Name: Wilson\\nGender: Ma...  201801\n",
       "4   4  First Name: Emily\\nLast Name: Carter\\nGender: ...  201801"
      ]
     },
     "execution_count": 43,
     "metadata": {},
     "output_type": "execute_result"
    }
   ],
   "source": [
    "cust_month_df = pd.DataFrame(cust_month_pairs)\n",
    "cust_month_df.sort_values(1, ascending=True, inplace=True)\n",
    "cust_month_df.reset_index(drop=True, inplace=True)\n",
    "cust_month_df.reset_index(drop=False, inplace=True) # use index as trx_id\n",
    "cust_month_df.columns = ['id', 'customer_id', 'month']\n",
    "cust_month_df.head()"
   ]
  },
  {
   "cell_type": "code",
   "execution_count": 44,
   "metadata": {},
   "outputs": [],
   "source": [
    "cm = cust_month_df.to_numpy()"
   ]
  },
  {
   "cell_type": "code",
   "execution_count": 45,
   "metadata": {},
   "outputs": [
    {
     "name": "stderr",
     "output_type": "stream",
     "text": [
      "100%|██████████| 23014/23014 [03:25<00:00, 111.91it/s]\n"
     ]
    }
   ],
   "source": [
    "raw_transactions = []\n",
    "for row in tqdm(cm):\n",
    "    raw_transactions.append(generate_transaction(row[1], row[0], row[2]))"
   ]
  },
  {
   "cell_type": "code",
   "execution_count": 46,
   "metadata": {},
   "outputs": [],
   "source": [
    "line_transactions = []\n",
    "for t in raw_transactions:\n",
    "    line_transactions += line_sales_rows(t)"
   ]
  },
  {
   "cell_type": "code",
   "execution_count": 47,
   "metadata": {},
   "outputs": [],
   "source": [
    "transactions = [transaction_rows(t) for t in raw_transactions]"
   ]
  },
  {
   "cell_type": "code",
   "execution_count": 48,
   "metadata": {},
   "outputs": [],
   "source": [
    "line_transactions = pd.DataFrame(line_transactions)\n",
    "transactions = pd.DataFrame(transactions)\n",
    "transactions['trx_dat'] = pd.to_datetime(\n",
    "    (transactions['month'].astype(str).str.slice(0, 4) + \n",
    "     '-' + \n",
    "     transactions['month'].astype(str).str.slice(4)) +\n",
    "     '-01'\n",
    ")"
   ]
  },
  {
   "cell_type": "code",
   "execution_count": 49,
   "metadata": {},
   "outputs": [
    {
     "data": {
      "text/html": [
       "<div>\n",
       "<style scoped>\n",
       "    .dataframe tbody tr th:only-of-type {\n",
       "        vertical-align: middle;\n",
       "    }\n",
       "\n",
       "    .dataframe tbody tr th {\n",
       "        vertical-align: top;\n",
       "    }\n",
       "\n",
       "    .dataframe thead th {\n",
       "        text-align: right;\n",
       "    }\n",
       "</style>\n",
       "<table border=\"1\" class=\"dataframe\">\n",
       "  <thead>\n",
       "    <tr style=\"text-align: right;\">\n",
       "      <th></th>\n",
       "      <th>id</th>\n",
       "      <th>product_id</th>\n",
       "      <th>qty_sold</th>\n",
       "    </tr>\n",
       "  </thead>\n",
       "  <tbody>\n",
       "    <tr>\n",
       "      <th>0</th>\n",
       "      <td>0</td>\n",
       "      <td>3</td>\n",
       "      <td>1</td>\n",
       "    </tr>\n",
       "    <tr>\n",
       "      <th>1</th>\n",
       "      <td>0</td>\n",
       "      <td>5</td>\n",
       "      <td>1</td>\n",
       "    </tr>\n",
       "    <tr>\n",
       "      <th>2</th>\n",
       "      <td>1</td>\n",
       "      <td>8</td>\n",
       "      <td>3</td>\n",
       "    </tr>\n",
       "    <tr>\n",
       "      <th>3</th>\n",
       "      <td>1</td>\n",
       "      <td>7</td>\n",
       "      <td>1</td>\n",
       "    </tr>\n",
       "    <tr>\n",
       "      <th>4</th>\n",
       "      <td>2</td>\n",
       "      <td>6</td>\n",
       "      <td>1</td>\n",
       "    </tr>\n",
       "  </tbody>\n",
       "</table>\n",
       "</div>"
      ],
      "text/plain": [
       "   id  product_id  qty_sold\n",
       "0   0           3         1\n",
       "1   0           5         1\n",
       "2   1           8         3\n",
       "3   1           7         1\n",
       "4   2           6         1"
      ]
     },
     "execution_count": 49,
     "metadata": {},
     "output_type": "execute_result"
    }
   ],
   "source": [
    "line_transactions.head()"
   ]
  },
  {
   "cell_type": "code",
   "execution_count": 50,
   "metadata": {},
   "outputs": [
    {
     "data": {
      "text/html": [
       "<div>\n",
       "<style scoped>\n",
       "    .dataframe tbody tr th:only-of-type {\n",
       "        vertical-align: middle;\n",
       "    }\n",
       "\n",
       "    .dataframe tbody tr th {\n",
       "        vertical-align: top;\n",
       "    }\n",
       "\n",
       "    .dataframe thead th {\n",
       "        text-align: right;\n",
       "    }\n",
       "</style>\n",
       "<table border=\"1\" class=\"dataframe\">\n",
       "  <thead>\n",
       "    <tr style=\"text-align: right;\">\n",
       "      <th></th>\n",
       "      <th>customer_id</th>\n",
       "      <th>id</th>\n",
       "      <th>month</th>\n",
       "      <th>trx_dat</th>\n",
       "    </tr>\n",
       "  </thead>\n",
       "  <tbody>\n",
       "    <tr>\n",
       "      <th>0</th>\n",
       "      <td>1915</td>\n",
       "      <td>0</td>\n",
       "      <td>201801</td>\n",
       "      <td>2018-01-01</td>\n",
       "    </tr>\n",
       "    <tr>\n",
       "      <th>1</th>\n",
       "      <td>765</td>\n",
       "      <td>1</td>\n",
       "      <td>201801</td>\n",
       "      <td>2018-01-01</td>\n",
       "    </tr>\n",
       "    <tr>\n",
       "      <th>2</th>\n",
       "      <td>1295</td>\n",
       "      <td>2</td>\n",
       "      <td>201801</td>\n",
       "      <td>2018-01-01</td>\n",
       "    </tr>\n",
       "    <tr>\n",
       "      <th>3</th>\n",
       "      <td>543</td>\n",
       "      <td>3</td>\n",
       "      <td>201801</td>\n",
       "      <td>2018-01-01</td>\n",
       "    </tr>\n",
       "    <tr>\n",
       "      <th>4</th>\n",
       "      <td>252</td>\n",
       "      <td>4</td>\n",
       "      <td>201801</td>\n",
       "      <td>2018-01-01</td>\n",
       "    </tr>\n",
       "  </tbody>\n",
       "</table>\n",
       "</div>"
      ],
      "text/plain": [
       "   customer_id  id   month    trx_dat\n",
       "0         1915   0  201801 2018-01-01\n",
       "1          765   1  201801 2018-01-01\n",
       "2         1295   2  201801 2018-01-01\n",
       "3          543   3  201801 2018-01-01\n",
       "4          252   4  201801 2018-01-01"
      ]
     },
     "execution_count": 50,
     "metadata": {},
     "output_type": "execute_result"
    }
   ],
   "source": [
    "transactions.head()"
   ]
  },
  {
   "cell_type": "code",
   "execution_count": 51,
   "metadata": {},
   "outputs": [
    {
     "data": {
      "text/html": [
       "<div>\n",
       "<style scoped>\n",
       "    .dataframe tbody tr th:only-of-type {\n",
       "        vertical-align: middle;\n",
       "    }\n",
       "\n",
       "    .dataframe tbody tr th {\n",
       "        vertical-align: top;\n",
       "    }\n",
       "\n",
       "    .dataframe thead th {\n",
       "        text-align: right;\n",
       "    }\n",
       "</style>\n",
       "<table border=\"1\" class=\"dataframe\">\n",
       "  <thead>\n",
       "    <tr style=\"text-align: right;\">\n",
       "      <th></th>\n",
       "      <th>customer_id</th>\n",
       "      <th>id_trx</th>\n",
       "      <th>month</th>\n",
       "      <th>trx_dat</th>\n",
       "      <th>product_id</th>\n",
       "      <th>qty_sold</th>\n",
       "      <th>brand</th>\n",
       "      <th>category</th>\n",
       "      <th>descr</th>\n",
       "      <th>id_product</th>\n",
       "      <th>msrp</th>\n",
       "      <th>unit_cost</th>\n",
       "      <th>descr_brand</th>\n",
       "      <th>descr_categ</th>\n",
       "      <th>ext_prc</th>\n",
       "    </tr>\n",
       "  </thead>\n",
       "  <tbody>\n",
       "    <tr>\n",
       "      <th>0</th>\n",
       "      <td>1915</td>\n",
       "      <td>0</td>\n",
       "      <td>201801</td>\n",
       "      <td>2018-01-01</td>\n",
       "      <td>3</td>\n",
       "      <td>1</td>\n",
       "      <td>1</td>\n",
       "      <td>2</td>\n",
       "      <td>Moisturizing Lotion</td>\n",
       "      <td>3</td>\n",
       "      <td>12.0</td>\n",
       "      <td>6.0</td>\n",
       "      <td>Bill's Soap Co.</td>\n",
       "      <td>Lotion</td>\n",
       "      <td>12.0</td>\n",
       "    </tr>\n",
       "    <tr>\n",
       "      <th>10023</th>\n",
       "      <td>1915</td>\n",
       "      <td>0</td>\n",
       "      <td>201801</td>\n",
       "      <td>2018-01-01</td>\n",
       "      <td>5</td>\n",
       "      <td>1</td>\n",
       "      <td>2</td>\n",
       "      <td>2</td>\n",
       "      <td>All Clean Hand Lotion</td>\n",
       "      <td>5</td>\n",
       "      <td>11.0</td>\n",
       "      <td>6.6</td>\n",
       "      <td>Taysha's Health &amp; Wellness</td>\n",
       "      <td>Lotion</td>\n",
       "      <td>11.0</td>\n",
       "    </tr>\n",
       "    <tr>\n",
       "      <th>20116</th>\n",
       "      <td>765</td>\n",
       "      <td>1</td>\n",
       "      <td>201801</td>\n",
       "      <td>2018-01-01</td>\n",
       "      <td>7</td>\n",
       "      <td>1</td>\n",
       "      <td>2</td>\n",
       "      <td>3</td>\n",
       "      <td>Hempy Health Supplements</td>\n",
       "      <td>7</td>\n",
       "      <td>15.0</td>\n",
       "      <td>9.0</td>\n",
       "      <td>Taysha's Health &amp; Wellness</td>\n",
       "      <td>Supplement</td>\n",
       "      <td>15.0</td>\n",
       "    </tr>\n",
       "    <tr>\n",
       "      <th>12997</th>\n",
       "      <td>765</td>\n",
       "      <td>1</td>\n",
       "      <td>201801</td>\n",
       "      <td>2018-01-01</td>\n",
       "      <td>8</td>\n",
       "      <td>3</td>\n",
       "      <td>3</td>\n",
       "      <td>2</td>\n",
       "      <td>Natural Cedar Lotion</td>\n",
       "      <td>8</td>\n",
       "      <td>12.0</td>\n",
       "      <td>6.0</td>\n",
       "      <td>Treesap Naturals</td>\n",
       "      <td>Lotion</td>\n",
       "      <td>36.0</td>\n",
       "    </tr>\n",
       "    <tr>\n",
       "      <th>30249</th>\n",
       "      <td>1295</td>\n",
       "      <td>2</td>\n",
       "      <td>201801</td>\n",
       "      <td>2018-01-01</td>\n",
       "      <td>2</td>\n",
       "      <td>1</td>\n",
       "      <td>1</td>\n",
       "      <td>1</td>\n",
       "      <td>Rejuvinating Soap</td>\n",
       "      <td>2</td>\n",
       "      <td>12.0</td>\n",
       "      <td>6.0</td>\n",
       "      <td>Bill's Soap Co.</td>\n",
       "      <td>Soap</td>\n",
       "      <td>12.0</td>\n",
       "    </tr>\n",
       "  </tbody>\n",
       "</table>\n",
       "</div>"
      ],
      "text/plain": [
       "       customer_id  id_trx   month    trx_dat  product_id  qty_sold  brand  \\\n",
       "0             1915       0  201801 2018-01-01           3         1      1   \n",
       "10023         1915       0  201801 2018-01-01           5         1      2   \n",
       "20116          765       1  201801 2018-01-01           7         1      2   \n",
       "12997          765       1  201801 2018-01-01           8         3      3   \n",
       "30249         1295       2  201801 2018-01-01           2         1      1   \n",
       "\n",
       "       category                     descr  id_product  msrp  unit_cost  \\\n",
       "0             2       Moisturizing Lotion           3  12.0        6.0   \n",
       "10023         2     All Clean Hand Lotion           5  11.0        6.6   \n",
       "20116         3  Hempy Health Supplements           7  15.0        9.0   \n",
       "12997         2      Natural Cedar Lotion           8  12.0        6.0   \n",
       "30249         1         Rejuvinating Soap           2  12.0        6.0   \n",
       "\n",
       "                      descr_brand descr_categ  ext_prc  \n",
       "0                 Bill's Soap Co.      Lotion     12.0  \n",
       "10023  Taysha's Health & Wellness      Lotion     11.0  \n",
       "20116  Taysha's Health & Wellness  Supplement     15.0  \n",
       "12997            Treesap Naturals      Lotion     36.0  \n",
       "30249             Bill's Soap Co.        Soap     12.0  "
      ]
     },
     "execution_count": 51,
     "metadata": {},
     "output_type": "execute_result"
    }
   ],
   "source": [
    "vi_sales_history = pd.merge(left=transactions, right=line_transactions, on='id', how='inner')\n",
    "vi_sales_history = pd.merge(left=vi_sales_history, right=vi_products, \n",
    "                         left_on='product_id', right_on='id', \n",
    "                         how='inner', suffixes=('_trx', '_product'))\n",
    "vi_sales_history['ext_prc'] = vi_sales_history['qty_sold'] * vi_sales_history['msrp']\n",
    "\n",
    "vi_sales_history.sort_values('id_trx', ascending=True, inplace=True)\n",
    "\n",
    "vi_sales_history.head()\n"
   ]
  },
  {
   "cell_type": "code",
   "execution_count": 52,
   "metadata": {},
   "outputs": [
    {
     "data": {
      "text/html": [
       "<div>\n",
       "<style scoped>\n",
       "    .dataframe tbody tr th:only-of-type {\n",
       "        vertical-align: middle;\n",
       "    }\n",
       "\n",
       "    .dataframe tbody tr th {\n",
       "        vertical-align: top;\n",
       "    }\n",
       "\n",
       "    .dataframe thead th {\n",
       "        text-align: right;\n",
       "    }\n",
       "</style>\n",
       "<table border=\"1\" class=\"dataframe\">\n",
       "  <thead>\n",
       "    <tr style=\"text-align: right;\">\n",
       "      <th></th>\n",
       "      <th>ext_prc</th>\n",
       "    </tr>\n",
       "    <tr>\n",
       "      <th>trx_dat</th>\n",
       "      <th></th>\n",
       "    </tr>\n",
       "  </thead>\n",
       "  <tbody>\n",
       "    <tr>\n",
       "      <th>2018-01-01</th>\n",
       "      <td>10082.0</td>\n",
       "    </tr>\n",
       "    <tr>\n",
       "      <th>2018-02-01</th>\n",
       "      <td>19493.0</td>\n",
       "    </tr>\n",
       "    <tr>\n",
       "      <th>2018-03-01</th>\n",
       "      <td>7302.0</td>\n",
       "    </tr>\n",
       "    <tr>\n",
       "      <th>2018-04-01</th>\n",
       "      <td>10317.0</td>\n",
       "    </tr>\n",
       "    <tr>\n",
       "      <th>2018-05-01</th>\n",
       "      <td>19398.0</td>\n",
       "    </tr>\n",
       "  </tbody>\n",
       "</table>\n",
       "</div>"
      ],
      "text/plain": [
       "            ext_prc\n",
       "trx_dat            \n",
       "2018-01-01  10082.0\n",
       "2018-02-01  19493.0\n",
       "2018-03-01   7302.0\n",
       "2018-04-01  10317.0\n",
       "2018-05-01  19398.0"
      ]
     },
     "execution_count": 52,
     "metadata": {},
     "output_type": "execute_result"
    }
   ],
   "source": [
    "monthly_sales = vi_sales_history[['trx_dat', 'ext_prc']].groupby('trx_dat').sum()\n",
    "monthly_sales.head()"
   ]
  },
  {
   "cell_type": "code",
   "execution_count": 53,
   "metadata": {},
   "outputs": [
    {
     "data": {
      "text/plain": [
       "<matplotlib.axes._subplots.AxesSubplot at 0x7ff8382c2978>"
      ]
     },
     "execution_count": 53,
     "metadata": {},
     "output_type": "execute_result"
    },
    {
     "data": {
      "image/png": "[encoded data removed]",
      "text/plain": [
       "<Figure size 432x288 with 1 Axes>"
      ]
     },
     "metadata": {
      "needs_background": "light"
     },
     "output_type": "display_data"
    }
   ],
   "source": [
    "monthly_sales.plot()"
   ]
  },
  {
   "cell_type": "code",
   "execution_count": 54,
   "metadata": {},
   "outputs": [],
   "source": [
    "customers_df['last_trx_dat'] = vi_sales_history[['customer_id', 'trx_dat']].groupby('customer_id').max()"
   ]
  },
  {
   "cell_type": "markdown",
   "metadata": {},
   "source": [
    "## Review of Tables"
   ]
  },
  {
   "cell_type": "code",
   "execution_count": 55,
   "metadata": {},
   "outputs": [
    {
     "data": {
      "text/html": [
       "<div>\n",
       "<style scoped>\n",
       "    .dataframe tbody tr th:only-of-type {\n",
       "        vertical-align: middle;\n",
       "    }\n",
       "\n",
       "    .dataframe tbody tr th {\n",
       "        vertical-align: top;\n",
       "    }\n",
       "\n",
       "    .dataframe thead th {\n",
       "        text-align: right;\n",
       "    }\n",
       "</style>\n",
       "<table border=\"1\" class=\"dataframe\">\n",
       "  <thead>\n",
       "    <tr style=\"text-align: right;\">\n",
       "      <th></th>\n",
       "      <th>brand</th>\n",
       "      <th>category</th>\n",
       "      <th>descr</th>\n",
       "      <th>id</th>\n",
       "      <th>msrp</th>\n",
       "      <th>unit_cost</th>\n",
       "    </tr>\n",
       "  </thead>\n",
       "  <tbody>\n",
       "    <tr>\n",
       "      <th>0</th>\n",
       "      <td>1</td>\n",
       "      <td>1</td>\n",
       "      <td>Gentle Soap</td>\n",
       "      <td>1</td>\n",
       "      <td>10.0</td>\n",
       "      <td>5.0</td>\n",
       "    </tr>\n",
       "    <tr>\n",
       "      <th>1</th>\n",
       "      <td>1</td>\n",
       "      <td>1</td>\n",
       "      <td>Rejuvinating Soap</td>\n",
       "      <td>2</td>\n",
       "      <td>12.0</td>\n",
       "      <td>6.0</td>\n",
       "    </tr>\n",
       "    <tr>\n",
       "      <th>2</th>\n",
       "      <td>1</td>\n",
       "      <td>2</td>\n",
       "      <td>Moisturizing Lotion</td>\n",
       "      <td>3</td>\n",
       "      <td>12.0</td>\n",
       "      <td>6.0</td>\n",
       "    </tr>\n",
       "    <tr>\n",
       "      <th>3</th>\n",
       "      <td>2</td>\n",
       "      <td>1</td>\n",
       "      <td>All Clean Hand Soap</td>\n",
       "      <td>4</td>\n",
       "      <td>11.0</td>\n",
       "      <td>6.6</td>\n",
       "    </tr>\n",
       "    <tr>\n",
       "      <th>4</th>\n",
       "      <td>2</td>\n",
       "      <td>2</td>\n",
       "      <td>All Clean Hand Lotion</td>\n",
       "      <td>5</td>\n",
       "      <td>11.0</td>\n",
       "      <td>6.6</td>\n",
       "    </tr>\n",
       "  </tbody>\n",
       "</table>\n",
       "</div>"
      ],
      "text/plain": [
       "   brand  category                  descr  id  msrp  unit_cost\n",
       "0      1         1            Gentle Soap   1  10.0        5.0\n",
       "1      1         1      Rejuvinating Soap   2  12.0        6.0\n",
       "2      1         2    Moisturizing Lotion   3  12.0        6.0\n",
       "3      2         1    All Clean Hand Soap   4  11.0        6.6\n",
       "4      2         2  All Clean Hand Lotion   5  11.0        6.6"
      ]
     },
     "execution_count": 55,
     "metadata": {},
     "output_type": "execute_result"
    }
   ],
   "source": [
    "products.head()"
   ]
  },
  {
   "cell_type": "code",
   "execution_count": 56,
   "metadata": {},
   "outputs": [
    {
     "data": {
      "text/html": [
       "<div>\n",
       "<style scoped>\n",
       "    .dataframe tbody tr th:only-of-type {\n",
       "        vertical-align: middle;\n",
       "    }\n",
       "\n",
       "    .dataframe tbody tr th {\n",
       "        vertical-align: top;\n",
       "    }\n",
       "\n",
       "    .dataframe thead th {\n",
       "        text-align: right;\n",
       "    }\n",
       "</style>\n",
       "<table border=\"1\" class=\"dataframe\">\n",
       "  <thead>\n",
       "    <tr style=\"text-align: right;\">\n",
       "      <th></th>\n",
       "      <th>descr</th>\n",
       "      <th>id</th>\n",
       "    </tr>\n",
       "  </thead>\n",
       "  <tbody>\n",
       "    <tr>\n",
       "      <th>0</th>\n",
       "      <td>Soap</td>\n",
       "      <td>1</td>\n",
       "    </tr>\n",
       "    <tr>\n",
       "      <th>1</th>\n",
       "      <td>Lotion</td>\n",
       "      <td>2</td>\n",
       "    </tr>\n",
       "    <tr>\n",
       "      <th>2</th>\n",
       "      <td>Supplement</td>\n",
       "      <td>3</td>\n",
       "    </tr>\n",
       "  </tbody>\n",
       "</table>\n",
       "</div>"
      ],
      "text/plain": [
       "        descr  id\n",
       "0        Soap   1\n",
       "1      Lotion   2\n",
       "2  Supplement   3"
      ]
     },
     "execution_count": 56,
     "metadata": {},
     "output_type": "execute_result"
    }
   ],
   "source": [
    "categories.head()"
   ]
  },
  {
   "cell_type": "code",
   "execution_count": 57,
   "metadata": {},
   "outputs": [
    {
     "data": {
      "text/html": [
       "<div>\n",
       "<style scoped>\n",
       "    .dataframe tbody tr th:only-of-type {\n",
       "        vertical-align: middle;\n",
       "    }\n",
       "\n",
       "    .dataframe tbody tr th {\n",
       "        vertical-align: top;\n",
       "    }\n",
       "\n",
       "    .dataframe thead th {\n",
       "        text-align: right;\n",
       "    }\n",
       "</style>\n",
       "<table border=\"1\" class=\"dataframe\">\n",
       "  <thead>\n",
       "    <tr style=\"text-align: right;\">\n",
       "      <th></th>\n",
       "      <th>descr</th>\n",
       "      <th>id</th>\n",
       "    </tr>\n",
       "  </thead>\n",
       "  <tbody>\n",
       "    <tr>\n",
       "      <th>0</th>\n",
       "      <td>Bill's Soap Co.</td>\n",
       "      <td>1</td>\n",
       "    </tr>\n",
       "    <tr>\n",
       "      <th>1</th>\n",
       "      <td>Taysha's Health &amp; Wellness</td>\n",
       "      <td>2</td>\n",
       "    </tr>\n",
       "    <tr>\n",
       "      <th>2</th>\n",
       "      <td>Treesap Naturals</td>\n",
       "      <td>3</td>\n",
       "    </tr>\n",
       "  </tbody>\n",
       "</table>\n",
       "</div>"
      ],
      "text/plain": [
       "                        descr  id\n",
       "0             Bill's Soap Co.   1\n",
       "1  Taysha's Health & Wellness   2\n",
       "2            Treesap Naturals   3"
      ]
     },
     "execution_count": 57,
     "metadata": {},
     "output_type": "execute_result"
    }
   ],
   "source": [
    "brands.head()"
   ]
  },
  {
   "cell_type": "code",
   "execution_count": 58,
   "metadata": {},
   "outputs": [
    {
     "data": {
      "text/html": [
       "<div>\n",
       "<style scoped>\n",
       "    .dataframe tbody tr th:only-of-type {\n",
       "        vertical-align: middle;\n",
       "    }\n",
       "\n",
       "    .dataframe tbody tr th {\n",
       "        vertical-align: top;\n",
       "    }\n",
       "\n",
       "    .dataframe thead th {\n",
       "        text-align: right;\n",
       "    }\n",
       "</style>\n",
       "<table border=\"1\" class=\"dataframe\">\n",
       "  <thead>\n",
       "    <tr style=\"text-align: right;\">\n",
       "      <th></th>\n",
       "      <th>brand</th>\n",
       "      <th>category</th>\n",
       "      <th>descr</th>\n",
       "      <th>id</th>\n",
       "      <th>msrp</th>\n",
       "      <th>unit_cost</th>\n",
       "      <th>descr_brand</th>\n",
       "      <th>descr_categ</th>\n",
       "    </tr>\n",
       "  </thead>\n",
       "  <tbody>\n",
       "    <tr>\n",
       "      <th>0</th>\n",
       "      <td>1</td>\n",
       "      <td>1</td>\n",
       "      <td>Gentle Soap</td>\n",
       "      <td>1</td>\n",
       "      <td>10.0</td>\n",
       "      <td>5.0</td>\n",
       "      <td>Bill's Soap Co.</td>\n",
       "      <td>Soap</td>\n",
       "    </tr>\n",
       "    <tr>\n",
       "      <th>1</th>\n",
       "      <td>1</td>\n",
       "      <td>1</td>\n",
       "      <td>Rejuvinating Soap</td>\n",
       "      <td>2</td>\n",
       "      <td>12.0</td>\n",
       "      <td>6.0</td>\n",
       "      <td>Bill's Soap Co.</td>\n",
       "      <td>Soap</td>\n",
       "    </tr>\n",
       "    <tr>\n",
       "      <th>2</th>\n",
       "      <td>2</td>\n",
       "      <td>1</td>\n",
       "      <td>All Clean Hand Soap</td>\n",
       "      <td>4</td>\n",
       "      <td>11.0</td>\n",
       "      <td>6.6</td>\n",
       "      <td>Taysha's Health &amp; Wellness</td>\n",
       "      <td>Soap</td>\n",
       "    </tr>\n",
       "    <tr>\n",
       "      <th>3</th>\n",
       "      <td>1</td>\n",
       "      <td>2</td>\n",
       "      <td>Moisturizing Lotion</td>\n",
       "      <td>3</td>\n",
       "      <td>12.0</td>\n",
       "      <td>6.0</td>\n",
       "      <td>Bill's Soap Co.</td>\n",
       "      <td>Lotion</td>\n",
       "    </tr>\n",
       "    <tr>\n",
       "      <th>4</th>\n",
       "      <td>2</td>\n",
       "      <td>2</td>\n",
       "      <td>All Clean Hand Lotion</td>\n",
       "      <td>5</td>\n",
       "      <td>11.0</td>\n",
       "      <td>6.6</td>\n",
       "      <td>Taysha's Health &amp; Wellness</td>\n",
       "      <td>Lotion</td>\n",
       "    </tr>\n",
       "  </tbody>\n",
       "</table>\n",
       "</div>"
      ],
      "text/plain": [
       "   brand  category                  descr  id  msrp  unit_cost  \\\n",
       "0      1         1            Gentle Soap   1  10.0        5.0   \n",
       "1      1         1      Rejuvinating Soap   2  12.0        6.0   \n",
       "2      2         1    All Clean Hand Soap   4  11.0        6.6   \n",
       "3      1         2    Moisturizing Lotion   3  12.0        6.0   \n",
       "4      2         2  All Clean Hand Lotion   5  11.0        6.6   \n",
       "\n",
       "                  descr_brand descr_categ  \n",
       "0             Bill's Soap Co.        Soap  \n",
       "1             Bill's Soap Co.        Soap  \n",
       "2  Taysha's Health & Wellness        Soap  \n",
       "3             Bill's Soap Co.      Lotion  \n",
       "4  Taysha's Health & Wellness      Lotion  "
      ]
     },
     "execution_count": 58,
     "metadata": {},
     "output_type": "execute_result"
    }
   ],
   "source": [
    "vi_products.head()"
   ]
  },
  {
   "cell_type": "code",
   "execution_count": 59,
   "metadata": {},
   "outputs": [
    {
     "data": {
      "text/html": [
       "<div>\n",
       "<style scoped>\n",
       "    .dataframe tbody tr th:only-of-type {\n",
       "        vertical-align: middle;\n",
       "    }\n",
       "\n",
       "    .dataframe tbody tr th {\n",
       "        vertical-align: top;\n",
       "    }\n",
       "\n",
       "    .dataframe thead th {\n",
       "        text-align: right;\n",
       "    }\n",
       "</style>\n",
       "<table border=\"1\" class=\"dataframe\">\n",
       "  <thead>\n",
       "    <tr style=\"text-align: right;\">\n",
       "      <th></th>\n",
       "      <th>id</th>\n",
       "      <th>product_id</th>\n",
       "      <th>qty_sold</th>\n",
       "    </tr>\n",
       "  </thead>\n",
       "  <tbody>\n",
       "    <tr>\n",
       "      <th>0</th>\n",
       "      <td>0</td>\n",
       "      <td>3</td>\n",
       "      <td>1</td>\n",
       "    </tr>\n",
       "    <tr>\n",
       "      <th>1</th>\n",
       "      <td>0</td>\n",
       "      <td>5</td>\n",
       "      <td>1</td>\n",
       "    </tr>\n",
       "    <tr>\n",
       "      <th>2</th>\n",
       "      <td>1</td>\n",
       "      <td>8</td>\n",
       "      <td>3</td>\n",
       "    </tr>\n",
       "    <tr>\n",
       "      <th>3</th>\n",
       "      <td>1</td>\n",
       "      <td>7</td>\n",
       "      <td>1</td>\n",
       "    </tr>\n",
       "    <tr>\n",
       "      <th>4</th>\n",
       "      <td>2</td>\n",
       "      <td>6</td>\n",
       "      <td>1</td>\n",
       "    </tr>\n",
       "  </tbody>\n",
       "</table>\n",
       "</div>"
      ],
      "text/plain": [
       "   id  product_id  qty_sold\n",
       "0   0           3         1\n",
       "1   0           5         1\n",
       "2   1           8         3\n",
       "3   1           7         1\n",
       "4   2           6         1"
      ]
     },
     "execution_count": 59,
     "metadata": {},
     "output_type": "execute_result"
    }
   ],
   "source": [
    "line_transactions.head()"
   ]
  },
  {
   "cell_type": "code",
   "execution_count": 60,
   "metadata": {},
   "outputs": [
    {
     "data": {
      "text/html": [
       "<div>\n",
       "<style scoped>\n",
       "    .dataframe tbody tr th:only-of-type {\n",
       "        vertical-align: middle;\n",
       "    }\n",
       "\n",
       "    .dataframe tbody tr th {\n",
       "        vertical-align: top;\n",
       "    }\n",
       "\n",
       "    .dataframe thead th {\n",
       "        text-align: right;\n",
       "    }\n",
       "</style>\n",
       "<table border=\"1\" class=\"dataframe\">\n",
       "  <thead>\n",
       "    <tr style=\"text-align: right;\">\n",
       "      <th></th>\n",
       "      <th>customer_id</th>\n",
       "      <th>id</th>\n",
       "      <th>month</th>\n",
       "      <th>trx_dat</th>\n",
       "    </tr>\n",
       "  </thead>\n",
       "  <tbody>\n",
       "    <tr>\n",
       "      <th>0</th>\n",
       "      <td>1915</td>\n",
       "      <td>0</td>\n",
       "      <td>201801</td>\n",
       "      <td>2018-01-01</td>\n",
       "    </tr>\n",
       "    <tr>\n",
       "      <th>1</th>\n",
       "      <td>765</td>\n",
       "      <td>1</td>\n",
       "      <td>201801</td>\n",
       "      <td>2018-01-01</td>\n",
       "    </tr>\n",
       "    <tr>\n",
       "      <th>2</th>\n",
       "      <td>1295</td>\n",
       "      <td>2</td>\n",
       "      <td>201801</td>\n",
       "      <td>2018-01-01</td>\n",
       "    </tr>\n",
       "    <tr>\n",
       "      <th>3</th>\n",
       "      <td>543</td>\n",
       "      <td>3</td>\n",
       "      <td>201801</td>\n",
       "      <td>2018-01-01</td>\n",
       "    </tr>\n",
       "    <tr>\n",
       "      <th>4</th>\n",
       "      <td>252</td>\n",
       "      <td>4</td>\n",
       "      <td>201801</td>\n",
       "      <td>2018-01-01</td>\n",
       "    </tr>\n",
       "  </tbody>\n",
       "</table>\n",
       "</div>"
      ],
      "text/plain": [
       "   customer_id  id   month    trx_dat\n",
       "0         1915   0  201801 2018-01-01\n",
       "1          765   1  201801 2018-01-01\n",
       "2         1295   2  201801 2018-01-01\n",
       "3          543   3  201801 2018-01-01\n",
       "4          252   4  201801 2018-01-01"
      ]
     },
     "execution_count": 60,
     "metadata": {},
     "output_type": "execute_result"
    }
   ],
   "source": [
    "transactions.head()"
   ]
  },
  {
   "cell_type": "code",
   "execution_count": 61,
   "metadata": {},
   "outputs": [
    {
     "data": {
      "text/html": [
       "<div>\n",
       "<style scoped>\n",
       "    .dataframe tbody tr th:only-of-type {\n",
       "        vertical-align: middle;\n",
       "    }\n",
       "\n",
       "    .dataframe tbody tr th {\n",
       "        vertical-align: top;\n",
       "    }\n",
       "\n",
       "    .dataframe thead th {\n",
       "        text-align: right;\n",
       "    }\n",
       "</style>\n",
       "<table border=\"1\" class=\"dataframe\">\n",
       "  <thead>\n",
       "    <tr style=\"text-align: right;\">\n",
       "      <th></th>\n",
       "      <th>descr</th>\n",
       "      <th>id</th>\n",
       "      <th>region</th>\n",
       "      <th>division</th>\n",
       "    </tr>\n",
       "  </thead>\n",
       "  <tbody>\n",
       "    <tr>\n",
       "      <th>0</th>\n",
       "      <td>Alaska</td>\n",
       "      <td>AK</td>\n",
       "      <td>West</td>\n",
       "      <td>Pacific</td>\n",
       "    </tr>\n",
       "    <tr>\n",
       "      <th>1</th>\n",
       "      <td>Alabama</td>\n",
       "      <td>AL</td>\n",
       "      <td>South</td>\n",
       "      <td>East South Central</td>\n",
       "    </tr>\n",
       "    <tr>\n",
       "      <th>2</th>\n",
       "      <td>Arkansas</td>\n",
       "      <td>AR</td>\n",
       "      <td>South</td>\n",
       "      <td>West South Central</td>\n",
       "    </tr>\n",
       "    <tr>\n",
       "      <th>3</th>\n",
       "      <td>Arizona</td>\n",
       "      <td>AZ</td>\n",
       "      <td>West</td>\n",
       "      <td>Mountain</td>\n",
       "    </tr>\n",
       "    <tr>\n",
       "      <th>4</th>\n",
       "      <td>California</td>\n",
       "      <td>CA</td>\n",
       "      <td>West</td>\n",
       "      <td>Pacific</td>\n",
       "    </tr>\n",
       "  </tbody>\n",
       "</table>\n",
       "</div>"
      ],
      "text/plain": [
       "        descr  id region            division\n",
       "0      Alaska  AK   West             Pacific\n",
       "1     Alabama  AL  South  East South Central\n",
       "2    Arkansas  AR  South  West South Central\n",
       "3     Arizona  AZ   West            Mountain\n",
       "4  California  CA   West             Pacific"
      ]
     },
     "execution_count": 61,
     "metadata": {},
     "output_type": "execute_result"
    }
   ],
   "source": [
    "states_df.columns = ['descr', 'id', 'region', 'division']\n",
    "states_df.head()"
   ]
  },
  {
   "cell_type": "code",
   "execution_count": 62,
   "metadata": {},
   "outputs": [
    {
     "data": {
      "text/html": [
       "<div>\n",
       "<style scoped>\n",
       "    .dataframe tbody tr th:only-of-type {\n",
       "        vertical-align: middle;\n",
       "    }\n",
       "\n",
       "    .dataframe tbody tr th {\n",
       "        vertical-align: top;\n",
       "    }\n",
       "\n",
       "    .dataframe thead th {\n",
       "        text-align: right;\n",
       "    }\n",
       "</style>\n",
       "<table border=\"1\" class=\"dataframe\">\n",
       "  <thead>\n",
       "    <tr style=\"text-align: right;\">\n",
       "      <th></th>\n",
       "      <th>id</th>\n",
       "      <th>first_name</th>\n",
       "      <th>last_name</th>\n",
       "      <th>state</th>\n",
       "      <th>last_trx_dat</th>\n",
       "    </tr>\n",
       "  </thead>\n",
       "  <tbody>\n",
       "    <tr>\n",
       "      <th>0</th>\n",
       "      <td>0</td>\n",
       "      <td>Kenneth</td>\n",
       "      <td>Thompson</td>\n",
       "      <td>NJ</td>\n",
       "      <td>2020-07-01</td>\n",
       "    </tr>\n",
       "    <tr>\n",
       "      <th>1</th>\n",
       "      <td>1</td>\n",
       "      <td>Alexander</td>\n",
       "      <td>Thomas</td>\n",
       "      <td>AR</td>\n",
       "      <td>2020-12-01</td>\n",
       "    </tr>\n",
       "    <tr>\n",
       "      <th>2</th>\n",
       "      <td>2</td>\n",
       "      <td>Patrick</td>\n",
       "      <td>Brown</td>\n",
       "      <td>FL</td>\n",
       "      <td>2020-12-01</td>\n",
       "    </tr>\n",
       "    <tr>\n",
       "      <th>3</th>\n",
       "      <td>3</td>\n",
       "      <td>Eugene</td>\n",
       "      <td>Long</td>\n",
       "      <td>LA</td>\n",
       "      <td>2020-11-01</td>\n",
       "    </tr>\n",
       "    <tr>\n",
       "      <th>4</th>\n",
       "      <td>4</td>\n",
       "      <td>Melissa</td>\n",
       "      <td>Johnson</td>\n",
       "      <td>HI</td>\n",
       "      <td>2020-11-01</td>\n",
       "    </tr>\n",
       "  </tbody>\n",
       "</table>\n",
       "</div>"
      ],
      "text/plain": [
       "   id first_name last_name state last_trx_dat\n",
       "0   0    Kenneth  Thompson    NJ   2020-07-01\n",
       "1   1  Alexander    Thomas    AR   2020-12-01\n",
       "2   2    Patrick     Brown    FL   2020-12-01\n",
       "3   3     Eugene      Long    LA   2020-11-01\n",
       "4   4    Melissa   Johnson    HI   2020-11-01"
      ]
     },
     "execution_count": 62,
     "metadata": {},
     "output_type": "execute_result"
    }
   ],
   "source": [
    "customers_df.head()"
   ]
  },
  {
   "cell_type": "code",
   "execution_count": 63,
   "metadata": {},
   "outputs": [
    {
     "data": {
      "text/html": [
       "<div>\n",
       "<style scoped>\n",
       "    .dataframe tbody tr th:only-of-type {\n",
       "        vertical-align: middle;\n",
       "    }\n",
       "\n",
       "    .dataframe tbody tr th {\n",
       "        vertical-align: top;\n",
       "    }\n",
       "\n",
       "    .dataframe thead th {\n",
       "        text-align: right;\n",
       "    }\n",
       "</style>\n",
       "<table border=\"1\" class=\"dataframe\">\n",
       "  <thead>\n",
       "    <tr style=\"text-align: right;\">\n",
       "      <th></th>\n",
       "      <th>customer_id</th>\n",
       "      <th>id_trx</th>\n",
       "      <th>month</th>\n",
       "      <th>trx_dat</th>\n",
       "      <th>product_id</th>\n",
       "      <th>qty_sold</th>\n",
       "      <th>brand</th>\n",
       "      <th>category</th>\n",
       "      <th>descr</th>\n",
       "      <th>id_product</th>\n",
       "      <th>msrp</th>\n",
       "      <th>unit_cost</th>\n",
       "      <th>descr_brand</th>\n",
       "      <th>descr_categ</th>\n",
       "      <th>ext_prc</th>\n",
       "    </tr>\n",
       "  </thead>\n",
       "  <tbody>\n",
       "    <tr>\n",
       "      <th>0</th>\n",
       "      <td>1915</td>\n",
       "      <td>0</td>\n",
       "      <td>201801</td>\n",
       "      <td>2018-01-01</td>\n",
       "      <td>3</td>\n",
       "      <td>1</td>\n",
       "      <td>1</td>\n",
       "      <td>2</td>\n",
       "      <td>Moisturizing Lotion</td>\n",
       "      <td>3</td>\n",
       "      <td>12.0</td>\n",
       "      <td>6.0</td>\n",
       "      <td>Bill's Soap Co.</td>\n",
       "      <td>Lotion</td>\n",
       "      <td>12.0</td>\n",
       "    </tr>\n",
       "    <tr>\n",
       "      <th>10023</th>\n",
       "      <td>1915</td>\n",
       "      <td>0</td>\n",
       "      <td>201801</td>\n",
       "      <td>2018-01-01</td>\n",
       "      <td>5</td>\n",
       "      <td>1</td>\n",
       "      <td>2</td>\n",
       "      <td>2</td>\n",
       "      <td>All Clean Hand Lotion</td>\n",
       "      <td>5</td>\n",
       "      <td>11.0</td>\n",
       "      <td>6.6</td>\n",
       "      <td>Taysha's Health &amp; Wellness</td>\n",
       "      <td>Lotion</td>\n",
       "      <td>11.0</td>\n",
       "    </tr>\n",
       "    <tr>\n",
       "      <th>20116</th>\n",
       "      <td>765</td>\n",
       "      <td>1</td>\n",
       "      <td>201801</td>\n",
       "      <td>2018-01-01</td>\n",
       "      <td>7</td>\n",
       "      <td>1</td>\n",
       "      <td>2</td>\n",
       "      <td>3</td>\n",
       "      <td>Hempy Health Supplements</td>\n",
       "      <td>7</td>\n",
       "      <td>15.0</td>\n",
       "      <td>9.0</td>\n",
       "      <td>Taysha's Health &amp; Wellness</td>\n",
       "      <td>Supplement</td>\n",
       "      <td>15.0</td>\n",
       "    </tr>\n",
       "    <tr>\n",
       "      <th>12997</th>\n",
       "      <td>765</td>\n",
       "      <td>1</td>\n",
       "      <td>201801</td>\n",
       "      <td>2018-01-01</td>\n",
       "      <td>8</td>\n",
       "      <td>3</td>\n",
       "      <td>3</td>\n",
       "      <td>2</td>\n",
       "      <td>Natural Cedar Lotion</td>\n",
       "      <td>8</td>\n",
       "      <td>12.0</td>\n",
       "      <td>6.0</td>\n",
       "      <td>Treesap Naturals</td>\n",
       "      <td>Lotion</td>\n",
       "      <td>36.0</td>\n",
       "    </tr>\n",
       "    <tr>\n",
       "      <th>30249</th>\n",
       "      <td>1295</td>\n",
       "      <td>2</td>\n",
       "      <td>201801</td>\n",
       "      <td>2018-01-01</td>\n",
       "      <td>2</td>\n",
       "      <td>1</td>\n",
       "      <td>1</td>\n",
       "      <td>1</td>\n",
       "      <td>Rejuvinating Soap</td>\n",
       "      <td>2</td>\n",
       "      <td>12.0</td>\n",
       "      <td>6.0</td>\n",
       "      <td>Bill's Soap Co.</td>\n",
       "      <td>Soap</td>\n",
       "      <td>12.0</td>\n",
       "    </tr>\n",
       "  </tbody>\n",
       "</table>\n",
       "</div>"
      ],
      "text/plain": [
       "       customer_id  id_trx   month    trx_dat  product_id  qty_sold  brand  \\\n",
       "0             1915       0  201801 2018-01-01           3         1      1   \n",
       "10023         1915       0  201801 2018-01-01           5         1      2   \n",
       "20116          765       1  201801 2018-01-01           7         1      2   \n",
       "12997          765       1  201801 2018-01-01           8         3      3   \n",
       "30249         1295       2  201801 2018-01-01           2         1      1   \n",
       "\n",
       "       category                     descr  id_product  msrp  unit_cost  \\\n",
       "0             2       Moisturizing Lotion           3  12.0        6.0   \n",
       "10023         2     All Clean Hand Lotion           5  11.0        6.6   \n",
       "20116         3  Hempy Health Supplements           7  15.0        9.0   \n",
       "12997         2      Natural Cedar Lotion           8  12.0        6.0   \n",
       "30249         1         Rejuvinating Soap           2  12.0        6.0   \n",
       "\n",
       "                      descr_brand descr_categ  ext_prc  \n",
       "0                 Bill's Soap Co.      Lotion     12.0  \n",
       "10023  Taysha's Health & Wellness      Lotion     11.0  \n",
       "20116  Taysha's Health & Wellness  Supplement     15.0  \n",
       "12997            Treesap Naturals      Lotion     36.0  \n",
       "30249             Bill's Soap Co.        Soap     12.0  "
      ]
     },
     "execution_count": 63,
     "metadata": {},
     "output_type": "execute_result"
    }
   ],
   "source": [
    "vi_sales_history.head()"
   ]
  },
  {
   "cell_type": "markdown",
   "metadata": {},
   "source": [
    "## Conclusion\n",
    "\n",
    "This simlulation produced the types of behaviors that a data analyst for a retail company would expect to see, minus one thing: trend. While the simulation produces realistic seasonalities and customer shopping habits, it does not allow for the growth of sales year-over-year.\n",
    "\n",
    "However, the results are good enough to provide simlulated data for anyone looking to try out retail analytics. For a look at some of the results, check out the <a href=\"https://app.powerbi.com/view?r=eyJrIjoiZDNjMWY4ZmEtY2Y2Yi00NTMzLTlmZmYtZWM3NjkxOTY0YzRkIiwidCI6ImI1ZjZhZGJmLTVjY2YtNGJlMi04MDgzLWQ4ODY5YjBhNWE0MiIsImMiOjF9&pageName=ReportSection534c763a552cd144ea70\">dashboard</a> I created that uses this data."
   ]
  },
  {
   "cell_type": "markdown",
   "metadata": {},
   "source": [
    " "
   ]
  }
 ],
 "metadata": {
  "kernelspec": {
   "display_name": "Python 3",
   "language": "python",
   "name": "python3"
  },
  "language_info": {
   "codemirror_mode": {
    "name": "ipython",
    "version": 3
   },
   "file_extension": ".py",
   "mimetype": "text/x-python",
   "name": "python",
   "nbconvert_exporter": "python",
   "pygments_lexer": "ipython3",
   "version": "3.7.3"
  }
 },
 "nbformat": 4,
 "nbformat_minor": 2
}
